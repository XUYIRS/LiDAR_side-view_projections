{
 "cells": [
  {
   "cell_type": "code",
   "execution_count": 1,
   "id": "3350bc9c-d7a1-4cc0-982b-bdd2e28db6a4",
   "metadata": {
    "tags": []
   },
   "outputs": [],
   "source": [
    "import os\n",
    "import pylas\n",
    "import numpy as np\n",
    "from tqdm import tqdm\n",
    "import geopandas as gpd\n",
    "import matplotlib.pyplot as plt\n",
    "from scipy.spatial import cKDTree\n",
    "from process_tree import process_tree\n",
    "from process_tree import create_if_not\n",
    "import warnings\n",
    "\n",
    "warnings.filterwarnings(\"ignore\", category=RuntimeWarning)"
   ]
  },
  {
   "cell_type": "markdown",
   "id": "4dbefa1f-5525-4bd4-81c8-af616527d160",
   "metadata": {},
   "source": [
    "### Generating Views"
   ]
  },
  {
   "cell_type": "code",
   "execution_count": 2,
   "id": "d89feb3a-e483-4a3a-b467-0db00cfb1da2",
   "metadata": {
    "tags": []
   },
   "outputs": [
    {
     "name": "stderr",
     "output_type": "stream",
     "text": [
      "Processing Trees: 100%|██████████████████████████████████████████████████████████████| 125/125 [00:14<00:00,  8.52it/s]"
     ]
    },
    {
     "name": "stdout",
     "output_type": "stream",
     "text": [
      "CPU times: total: 15 s\n",
      "Wall time: 14.9 s\n"
     ]
    },
    {
     "name": "stderr",
     "output_type": "stream",
     "text": [
      "\n"
     ]
    }
   ],
   "source": [
    "%%time\n",
    "fig_list = []\n",
    "\n",
    "# Read the LAZ file\n",
    "laz_file_path = 'example_data/LiDAR_example.las'\n",
    "las = pylas.read(laz_file_path)\n",
    "\n",
    "gjson = f'example_data/bboxes_example.geojson'\n",
    "gdf = gpd.read_file(gjson)\n",
    "\n",
    "# Extract the bounding box of all trees\n",
    "las_X = las.header.x_offset + las.points['X'] * las.header.x_scale\n",
    "las_Y = las.header.y_offset + las.points['Y'] * las.header.y_scale\n",
    "las_Z = las.header.z_offset + las.points['Z'] * las.header.z_scale\n",
    "\n",
    "# Apply a buffer zone to ensure the integrity of the tree crown\n",
    "veg_index = np.where(las.classification == 1)\n",
    "ground_index = np.where(las.classification == 2)\n",
    "\n",
    "# Create arrays to store coordinates of vegetation and ground points\n",
    "veg_xyz_all = np.zeros(len(veg_index[0]), dtype=[('X', float), ('Y', float), ('Z', float)])\n",
    "ground_xyz_all = np.zeros(len(ground_index[0]), dtype=[('X', float), ('Y', float), ('Z', float)])\n",
    "\n",
    "veg_xyz_all['X'] = las_X[veg_index]\n",
    "veg_xyz_all['Y'] = las_Y[veg_index]\n",
    "veg_xyz_all['Z'] = las_Z[veg_index]\n",
    "ground_xyz_all['X'] = las_X[ground_index]\n",
    "ground_xyz_all['Y'] = las_Y[ground_index]\n",
    "ground_xyz_all['Z'] = las_Z[ground_index]\n",
    "\n",
    "\n",
    "# Construct KD-Trees for efficient nearest-neighbor queries\n",
    "veg_tree = cKDTree(np.column_stack((veg_xyz_all['X'], veg_xyz_all['Y'])))\n",
    "ground_tree = cKDTree(np.column_stack((ground_xyz_all['X'], ground_xyz_all['Y'])))\n",
    "\n",
    "fig_list = []\n",
    "\n",
    "for index, tree in tqdm(gdf.iterrows(), total=len(gdf), desc='Processing Trees'):\n",
    "    fig_list.extend(process_tree(tree, veg_tree, ground_tree, veg_xyz_all, \n",
    "                                 ground_xyz_all, rotation_angle = 30))"
   ]
  },
  {
   "cell_type": "markdown",
   "id": "84b18ac5-f2b0-45fd-9a10-b876a2eff0ef",
   "metadata": {},
   "source": [
    "### Saving Views"
   ]
  },
  {
   "cell_type": "code",
   "execution_count": 3,
   "id": "b54fb70f-4c58-45c3-80cf-3835aac9a5ba",
   "metadata": {},
   "outputs": [],
   "source": [
    "outpath = os.path.join(os.path.expanduser(\"~\"), 'Desktop/Figs')\n",
    "create_if_not(outpath)"
   ]
  },
  {
   "cell_type": "code",
   "execution_count": 4,
   "id": "1de1f2f0-c1c4-410b-b7a7-2297219ef27c",
   "metadata": {},
   "outputs": [
    {
     "name": "stderr",
     "output_type": "stream",
     "text": [
      "Saving views: 100%|████████████████████████████████████████████████████████████████| 1500/1500 [00:36<00:00, 41.09it/s]\n"
     ]
    }
   ],
   "source": [
    "for center, fig, a in tqdm(fig_list, total=len(fig_list), desc='Saving views'):\n",
    "    fig.savefig(f'{outpath}/x{round(center[0],3)}_y{round(center[1],3)}_angle_{a}.png', bbox_inches='tight')"
   ]
  }
 ],
 "metadata": {
  "kernelspec": {
   "display_name": "Python 3 (ipykernel)",
   "language": "python",
   "name": "python3"
  },
  "language_info": {
   "codemirror_mode": {
    "name": "ipython",
    "version": 3
   },
   "file_extension": ".py",
   "mimetype": "text/x-python",
   "name": "python",
   "nbconvert_exporter": "python",
   "pygments_lexer": "ipython3",
   "version": "3.9.12"
  }
 },
 "nbformat": 4,
 "nbformat_minor": 5
}
